{
 "cells": [
  {
   "cell_type": "code",
   "execution_count": 1,
   "metadata": {},
   "outputs": [
    {
     "name": "stdout",
     "output_type": "stream",
     "text": [
      "../data/src.txt\n",
      "../data/pred.txt\n",
      "\n",
      "\n",
      "\n",
      "Metric write to \"../data/pred.lbl.tsv\"\n",
      "tp,53,pred_p,55,targ_p,55\n",
      "tp,57,pred_p,58,targ_p,58\n",
      "sent-detect-acc: 98.18181818181819\n",
      "sent-detect-p: 98.18181818181819\n",
      "sent-detect-r: 98.18181818181819\n",
      "sent-detect-f1: 98.18181818181819\n",
      "sent-correct-acc: 96.36363636363636\n",
      "sent-correct-p: 96.36363636363636\n",
      "sent-correct-r: 96.36363636363636\n",
      "sent-correct-f1: 96.36363636363636\n",
      "char-detect-f1: 99.14529914529915\n",
      "char-correct-f1: 98.27586206896551\n"
     ]
    }
   ],
   "source": [
    "import sys\n",
    "sys.path.append('..')\n",
    "\n",
    "from csc_eval import Metric\n",
    "\n",
    "\n",
    "src_file = '../data/src.txt'\n",
    "tgt_file = '../data/tgt.txt'\n",
    "pred_file = '../data/pred.txt'\n",
    "lbl_file = '../data/label.lbl.tsv'\n",
    "\n",
    "pred_lbl_file = '../data/pred.lbl.tsv'\n",
    "metricor = Metric()\n",
    "\n",
    "scores = metricor.metric(src_file, pred_file, pred_lbl_file, lbl_file)\n",
    "\n",
    "for k, v in scores.items():\n",
    "    print(f'{k}: {v}')"
   ]
  },
  {
   "cell_type": "code",
   "execution_count": null,
   "metadata": {},
   "outputs": [],
   "source": []
  }
 ],
 "metadata": {
  "kernelspec": {
   "display_name": "Python 3 (ipykernel)",
   "language": "python",
   "name": "python3"
  },
  "language_info": {
   "codemirror_mode": {
    "name": "ipython",
    "version": 3
   },
   "file_extension": ".py",
   "mimetype": "text/x-python",
   "name": "python",
   "nbconvert_exporter": "python",
   "pygments_lexer": "ipython3",
   "version": "3.9.17"
  }
 },
 "nbformat": 4,
 "nbformat_minor": 4
}
